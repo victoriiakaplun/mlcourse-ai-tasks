{
 "cells": [
  {
   "cell_type": "markdown",
   "metadata": {
    "_uuid": "945c0f151b28ca53b79e0f7cf5b107af959a3370",
    "papermill": {
     "duration": 0.049334,
     "end_time": "2020-11-24T13:51:10.862690",
     "exception": false,
     "start_time": "2020-11-24T13:51:10.813356",
     "status": "completed"
    },
    "tags": []
   },
   "source": [
    "<center>\n",
    "<img src=\"https://habrastorage.org/webt/ia/m9/zk/iam9zkyzqebnf_okxipihkgjwnw.jpeg\">\n",
    "\n",
    "## [mlcourse.ai](https://mlcourse.ai) - Open Machine Learning Course\n",
    "    \n",
    "Authors: [Ilya Baryshnikov](https://www.linkedin.com/in/baryshnikov-ilya/), [Maxim Uvarov](https://www.linkedin.com/in/maxis42/), and [Yury Kashnitsky](https://yorko.github.io). Translated and edited by [Inga Kaydanova](https://www.linkedin.com/in/inga-kaidanova-a92398b1/), [Egor Polusmak](https://www.linkedin.com/in/egor-polusmak/), [Anastasia Manokhina](https://www.linkedin.com/in/anastasiamanokhina/), and [Yuanyuan Pao](https://www.linkedin.com/in/yuanyuanpao/). This material is subject to the terms and conditions of the [Creative Commons CC BY-NC-SA 4.0](https://creativecommons.org/licenses/by-nc-sa/4.0/) license. Free use is permitted for any non-commercial purpose."
   ]
  },
  {
   "cell_type": "markdown",
   "metadata": {
    "_uuid": "66409c8728e75df39a1390bcb634ae50c6b37652",
    "collapsed": true,
    "papermill": {
     "duration": 0.047846,
     "end_time": "2020-11-24T13:51:10.958159",
     "exception": false,
     "start_time": "2020-11-24T13:51:10.910313",
     "status": "completed"
    },
    "tags": []
   },
   "source": [
    "# <center>Assignment #2 (demo)\n",
    "## <center>Analyzing cardiovascular disease data "
   ]
  },
  {
   "cell_type": "markdown",
   "metadata": {
    "_uuid": "5cea59b8adb04c5a07a32c5b70a829319ba0cf2a",
    "papermill": {
     "duration": 0.04849,
     "end_time": "2020-11-24T13:51:11.054663",
     "exception": false,
     "start_time": "2020-11-24T13:51:11.006173",
     "status": "completed"
    },
    "tags": []
   },
   "source": [
    "In this assignment, you will answer questions about a dataset on cardiovascular disease. You do not need to download the data: it is already in the repository. There are some Tasks that will require you to write code. Complete them and then answer the questions in the [form](https://docs.google.com/forms/d/13cE_tSIb6hsScQvvWUJeu1MEHE5L6vnxQUbDYpXsf24). \n",
    "\n",
    "#### Problem\n",
    "\n",
    "Predict the presence or absence of cardiovascular disease (CVD) using the patient examination results.\n",
    "\n",
    "#### Data description\n",
    "\n",
    "There are 3 types of input features:\n",
    "\n",
    "- *Objective*: factual information;\n",
    "- *Examination*: results of medical examination;\n",
    "- *Subjective*: information given by the patient.\n",
    "\n",
    "| Feature | Variable Type | Variable      | Value Type |\n",
    "|---------|--------------|---------------|------------|\n",
    "| Age | Objective Feature | age | int (days) |\n",
    "| Height | Objective Feature | height | int (cm) |\n",
    "| Weight | Objective Feature | weight | float (kg) |\n",
    "| Gender | Objective Feature | gender | categorical code |\n",
    "| Systolic blood pressure | Examination Feature | ap_hi | int |\n",
    "| Diastolic blood pressure | Examination Feature | ap_lo | int |\n",
    "| Cholesterol | Examination Feature | cholesterol | 1: normal, 2: above normal, 3: well above normal |\n",
    "| Glucose | Examination Feature | gluc | 1: normal, 2: above normal, 3: well above normal |\n",
    "| Smoking | Subjective Feature | smoke | binary |\n",
    "| Alcohol intake | Subjective Feature | alco | binary |\n",
    "| Physical activity | Subjective Feature | active | binary |\n",
    "| Presence or absence of cardiovascular disease | Target Variable | cardio | binary |\n",
    "\n",
    "All of the dataset values were collected at the moment of medical examination."
   ]
  },
  {
   "cell_type": "markdown",
   "metadata": {
    "_uuid": "10749a7f9b46749e3a90ff697bc298760045c333",
    "papermill": {
     "duration": 0.047645,
     "end_time": "2020-11-24T13:51:11.150379",
     "exception": false,
     "start_time": "2020-11-24T13:51:11.102734",
     "status": "completed"
    },
    "tags": []
   },
   "source": [
    "Let's get to know our data by performing a preliminary data analysis.\n",
    "\n",
    "#  Part 1. Preliminary data analysis\n",
    "\n",
    "First, we will initialize the environment:"
   ]
  },
  {
   "cell_type": "code",
   "execution_count": 1,
   "metadata": {
    "_uuid": "85426734e890fcf72416f29a953da115c1171080",
    "execution": {
     "iopub.execute_input": "2020-11-24T13:51:11.256181Z",
     "iopub.status.busy": "2020-11-24T13:51:11.255390Z",
     "iopub.status.idle": "2020-11-24T13:51:12.216933Z",
     "shell.execute_reply": "2020-11-24T13:51:12.217585Z"
    },
    "papermill": {
     "duration": 1.01904,
     "end_time": "2020-11-24T13:51:12.217781",
     "exception": false,
     "start_time": "2020-11-24T13:51:11.198741",
     "status": "completed"
    },
    "tags": []
   },
   "outputs": [],
   "source": [
    "# Import all required modules\n",
    "import pandas as pd\n",
    "import numpy as np\n",
    "\n",
    "# Disable warnings\n",
    "import warnings\n",
    "warnings.filterwarnings(\"ignore\")\n",
    "\n",
    "# Import plotting modules\n",
    "import seaborn as sns\n",
    "sns.set()\n",
    "import matplotlib\n",
    "import matplotlib.pyplot as plt\n",
    "import matplotlib.ticker\n",
    "%matplotlib inline"
   ]
  },
  {
   "cell_type": "markdown",
   "metadata": {
    "_uuid": "cbcf821e4bea8a7f7fb1ee4a9bf285b6c4b588ee",
    "papermill": {
     "duration": 0.047182,
     "end_time": "2020-11-24T13:51:12.314001",
     "exception": false,
     "start_time": "2020-11-24T13:51:12.266819",
     "status": "completed"
    },
    "tags": []
   },
   "source": [
    "You will use the `seaborn` library for visual analysis, so let's set that up too:"
   ]
  },
  {
   "cell_type": "code",
   "execution_count": 2,
   "metadata": {
    "_uuid": "b33601a0cadc2fb2d92f211c31bf99a502f71d48",
    "execution": {
     "iopub.execute_input": "2020-11-24T13:51:12.416218Z",
     "iopub.status.busy": "2020-11-24T13:51:12.415464Z",
     "iopub.status.idle": "2020-11-24T13:51:12.418807Z",
     "shell.execute_reply": "2020-11-24T13:51:12.418204Z"
    },
    "papermill": {
     "duration": 0.057309,
     "end_time": "2020-11-24T13:51:12.418933",
     "exception": false,
     "start_time": "2020-11-24T13:51:12.361624",
     "status": "completed"
    },
    "tags": []
   },
   "outputs": [],
   "source": [
    "# Tune the visual settings for figures in `seaborn`\n",
    "sns.set_context(\n",
    "    \"notebook\", \n",
    "    font_scale=1.5,       \n",
    "    rc={ \n",
    "        \"figure.figsize\": (11, 8), \n",
    "        \"axes.titlesize\": 18 \n",
    "    }\n",
    ")\n",
    "\n",
    "from matplotlib import rcParams\n",
    "rcParams['figure.figsize'] = 11, 8"
   ]
  },
  {
   "cell_type": "markdown",
   "metadata": {
    "_uuid": "89381351e4b95530b355e0e55bc4536c0a813d10",
    "papermill": {
     "duration": 0.047603,
     "end_time": "2020-11-24T13:51:12.514811",
     "exception": false,
     "start_time": "2020-11-24T13:51:12.467208",
     "status": "completed"
    },
    "tags": []
   },
   "source": [
    "To make it simple, we will work only with the training part of the dataset:"
   ]
  },
  {
   "cell_type": "code",
   "execution_count": 3,
   "metadata": {
    "_uuid": "2bd0005e660693a061577ca5244b48ccebf36719",
    "execution": {
     "iopub.execute_input": "2020-11-24T13:51:12.619311Z",
     "iopub.status.busy": "2020-11-24T13:51:12.618509Z",
     "iopub.status.idle": "2020-11-24T13:51:12.752035Z",
     "shell.execute_reply": "2020-11-24T13:51:12.751412Z"
    },
    "papermill": {
     "duration": 0.189515,
     "end_time": "2020-11-24T13:51:12.752182",
     "exception": false,
     "start_time": "2020-11-24T13:51:12.562667",
     "status": "completed"
    },
    "tags": []
   },
   "outputs": [
    {
     "name": "stdout",
     "output_type": "stream",
     "text": [
      "Dataset size:  (70000, 13)\n"
     ]
    },
    {
     "data": {
      "text/html": [
       "<div>\n",
       "<style scoped>\n",
       "    .dataframe tbody tr th:only-of-type {\n",
       "        vertical-align: middle;\n",
       "    }\n",
       "\n",
       "    .dataframe tbody tr th {\n",
       "        vertical-align: top;\n",
       "    }\n",
       "\n",
       "    .dataframe thead th {\n",
       "        text-align: right;\n",
       "    }\n",
       "</style>\n",
       "<table border=\"1\" class=\"dataframe\">\n",
       "  <thead>\n",
       "    <tr style=\"text-align: right;\">\n",
       "      <th></th>\n",
       "      <th>id</th>\n",
       "      <th>age</th>\n",
       "      <th>gender</th>\n",
       "      <th>height</th>\n",
       "      <th>weight</th>\n",
       "      <th>ap_hi</th>\n",
       "      <th>ap_lo</th>\n",
       "      <th>cholesterol</th>\n",
       "      <th>gluc</th>\n",
       "      <th>smoke</th>\n",
       "      <th>alco</th>\n",
       "      <th>active</th>\n",
       "      <th>cardio</th>\n",
       "    </tr>\n",
       "  </thead>\n",
       "  <tbody>\n",
       "    <tr>\n",
       "      <th>0</th>\n",
       "      <td>0</td>\n",
       "      <td>18393</td>\n",
       "      <td>2</td>\n",
       "      <td>168</td>\n",
       "      <td>62.0</td>\n",
       "      <td>110</td>\n",
       "      <td>80</td>\n",
       "      <td>1</td>\n",
       "      <td>1</td>\n",
       "      <td>0</td>\n",
       "      <td>0</td>\n",
       "      <td>1</td>\n",
       "      <td>0</td>\n",
       "    </tr>\n",
       "    <tr>\n",
       "      <th>1</th>\n",
       "      <td>1</td>\n",
       "      <td>20228</td>\n",
       "      <td>1</td>\n",
       "      <td>156</td>\n",
       "      <td>85.0</td>\n",
       "      <td>140</td>\n",
       "      <td>90</td>\n",
       "      <td>3</td>\n",
       "      <td>1</td>\n",
       "      <td>0</td>\n",
       "      <td>0</td>\n",
       "      <td>1</td>\n",
       "      <td>1</td>\n",
       "    </tr>\n",
       "    <tr>\n",
       "      <th>2</th>\n",
       "      <td>2</td>\n",
       "      <td>18857</td>\n",
       "      <td>1</td>\n",
       "      <td>165</td>\n",
       "      <td>64.0</td>\n",
       "      <td>130</td>\n",
       "      <td>70</td>\n",
       "      <td>3</td>\n",
       "      <td>1</td>\n",
       "      <td>0</td>\n",
       "      <td>0</td>\n",
       "      <td>0</td>\n",
       "      <td>1</td>\n",
       "    </tr>\n",
       "    <tr>\n",
       "      <th>3</th>\n",
       "      <td>3</td>\n",
       "      <td>17623</td>\n",
       "      <td>2</td>\n",
       "      <td>169</td>\n",
       "      <td>82.0</td>\n",
       "      <td>150</td>\n",
       "      <td>100</td>\n",
       "      <td>1</td>\n",
       "      <td>1</td>\n",
       "      <td>0</td>\n",
       "      <td>0</td>\n",
       "      <td>1</td>\n",
       "      <td>1</td>\n",
       "    </tr>\n",
       "    <tr>\n",
       "      <th>4</th>\n",
       "      <td>4</td>\n",
       "      <td>17474</td>\n",
       "      <td>1</td>\n",
       "      <td>156</td>\n",
       "      <td>56.0</td>\n",
       "      <td>100</td>\n",
       "      <td>60</td>\n",
       "      <td>1</td>\n",
       "      <td>1</td>\n",
       "      <td>0</td>\n",
       "      <td>0</td>\n",
       "      <td>0</td>\n",
       "      <td>0</td>\n",
       "    </tr>\n",
       "  </tbody>\n",
       "</table>\n",
       "</div>"
      ],
      "text/plain": [
       "   id    age  gender  height  weight  ap_hi  ap_lo  cholesterol  gluc  smoke  \\\n",
       "0   0  18393       2     168    62.0    110     80            1     1      0   \n",
       "1   1  20228       1     156    85.0    140     90            3     1      0   \n",
       "2   2  18857       1     165    64.0    130     70            3     1      0   \n",
       "3   3  17623       2     169    82.0    150    100            1     1      0   \n",
       "4   4  17474       1     156    56.0    100     60            1     1      0   \n",
       "\n",
       "   alco  active  cardio  \n",
       "0     0       1       0  \n",
       "1     0       1       1  \n",
       "2     0       0       1  \n",
       "3     0       1       1  \n",
       "4     0       0       0  "
      ]
     },
     "execution_count": 3,
     "metadata": {},
     "output_type": "execute_result"
    }
   ],
   "source": [
    "df = pd.read_csv('../input/mlbootcamp5_train.csv')\n",
    "print('Dataset size: ', df.shape)\n",
    "df.head()"
   ]
  },
  {
   "cell_type": "markdown",
   "metadata": {
    "_uuid": "636bf459023fbc1d1f1b73863c5246397dc26e6d",
    "papermill": {
     "duration": 0.04902,
     "end_time": "2020-11-24T13:51:12.851052",
     "exception": false,
     "start_time": "2020-11-24T13:51:12.802032",
     "status": "completed"
    },
    "tags": []
   },
   "source": [
    "It would be instructive to peek into the values of our variables.\n",
    " \n",
    "Let's convert the data into *long* format and depict the value counts of the categorical features using [`factorplot()`](https://seaborn.pydata.org/generated/seaborn.factorplot.html)."
   ]
  },
  {
   "cell_type": "code",
   "execution_count": 4,
   "metadata": {
    "_uuid": "334ad6a83e7bb58f2c65ec512bfc401a0948c17a",
    "execution": {
     "iopub.execute_input": "2020-11-24T13:51:12.978013Z",
     "iopub.status.busy": "2020-11-24T13:51:12.977220Z",
     "iopub.status.idle": "2020-11-24T13:51:13.755922Z",
     "shell.execute_reply": "2020-11-24T13:51:13.755304Z"
    },
    "papermill": {
     "duration": 0.855431,
     "end_time": "2020-11-24T13:51:13.756062",
     "exception": false,
     "start_time": "2020-11-24T13:51:12.900631",
     "status": "completed"
    },
    "tags": []
   },
   "outputs": [
    {
     "data": {
      "image/png": "[encoded data removed]",
      "text/plain": [
       "<Figure size 933.9x864 with 1 Axes>"
      ]
     },
     "metadata": {
      "needs_background": "light"
     },
     "output_type": "display_data"
    }
   ],
   "source": [
    "df_uniques = pd.melt(frame=df, value_vars=['gender','cholesterol', \n",
    "                                           'gluc', 'smoke', 'alco', \n",
    "                                           'active', 'cardio'])\n",
    "df_uniques = pd.DataFrame(df_uniques.groupby(['variable', \n",
    "                                              'value'])['value'].count()) \\\n",
    "    .sort_index(level=[0, 1]) \\\n",
    "    .rename(columns={'value': 'count'}) \\\n",
    "    .reset_index()\n",
    "\n",
    "sns.factorplot(x='variable', y='count', hue='value', \n",
    "               data=df_uniques, kind='bar', size=12);"
   ]
  },
  {
   "cell_type": "markdown",
   "metadata": {
    "_uuid": "cb94ec9ddf78c607cdec5536581b8ec4004ac16b",
    "collapsed": true,
    "papermill": {
     "duration": 0.050689,
     "end_time": "2020-11-24T13:51:13.857887",
     "exception": false,
     "start_time": "2020-11-24T13:51:13.807198",
     "status": "completed"
    },
    "tags": []
   },
   "source": [
    "We can see that the target classes are balanced. That's great!\n",
    "\n",
    "Let's split the dataset by target values. Can you already spot the most significant feature by just looking at the plot?"
   ]
  },
  {
   "cell_type": "code",
   "execution_count": 5,
   "metadata": {
    "_uuid": "a712d76f8c11588a9aebd4be6a00f01c53a8d80a",
    "execution": {
     "iopub.execute_input": "2020-11-24T13:51:13.974472Z",
     "iopub.status.busy": "2020-11-24T13:51:13.973694Z",
     "iopub.status.idle": "2020-11-24T13:51:15.053469Z",
     "shell.execute_reply": "2020-11-24T13:51:15.052760Z"
    },
    "papermill": {
     "duration": 1.144915,
     "end_time": "2020-11-24T13:51:15.053608",
     "exception": false,
     "start_time": "2020-11-24T13:51:13.908693",
     "status": "completed"
    },
    "tags": []
   },
   "outputs": [
    {
     "data": {
      "image/png": "[encoded data removed]",
      "text/plain": [
       "<Figure size 1365.9x648 with 2 Axes>"
      ]
     },
     "metadata": {
      "needs_background": "light"
     },
     "output_type": "display_data"
    }
   ],
   "source": [
    "df_uniques = pd.melt(frame=df, value_vars=['gender','cholesterol', \n",
    "                                           'gluc', 'smoke', 'alco', \n",
    "                                           'active'], \n",
    "                     id_vars=['cardio'])\n",
    "df_uniques = pd.DataFrame(df_uniques.groupby(['variable', 'value', \n",
    "                                              'cardio'])['value'].count()) \\\n",
    "    .sort_index(level=[0, 1]) \\\n",
    "    .rename(columns={'value': 'count'}) \\\n",
    "    .reset_index()\n",
    "\n",
    "sns.factorplot(x='variable', y='count', hue='value', \n",
    "               col='cardio', data=df_uniques, kind='bar', size=9);"
   ]
  },
  {
   "cell_type": "markdown",
   "metadata": {
    "_uuid": "4f4fdb7b979c6594b3060a0b80473fabbdf6acd0",
    "papermill": {
     "duration": 0.052748,
     "end_time": "2020-11-24T13:51:15.158650",
     "exception": false,
     "start_time": "2020-11-24T13:51:15.105902",
     "status": "completed"
    },
    "tags": []
   },
   "source": [
    "You can see that the distribution of cholesterol and glucose levels great differs by the value of the target variable. Is this a coincidence?\n",
    "\n",
    "Now, let's calculate some statistics for the feature unique values:"
   ]
  },
  {
   "cell_type": "code",
   "execution_count": 6,
   "metadata": {
    "_uuid": "e9cbba719f93f6b544567638be7332b7385fc715",
    "execution": {
     "iopub.execute_input": "2020-11-24T13:51:15.271613Z",
     "iopub.status.busy": "2020-11-24T13:51:15.270827Z",
     "iopub.status.idle": "2020-11-24T13:51:15.302605Z",
     "shell.execute_reply": "2020-11-24T13:51:15.301608Z"
    },
    "papermill": {
     "duration": 0.091467,
     "end_time": "2020-11-24T13:51:15.302778",
     "exception": false,
     "start_time": "2020-11-24T13:51:15.211311",
     "status": "completed"
    },
    "tags": []
   },
   "outputs": [
    {
     "name": "stdout",
     "output_type": "stream",
     "text": [
      "id\n",
      "70000\n",
      "----------\n",
      "age\n",
      "8076\n",
      "----------\n",
      "gender\n",
      "2 [(1, 45530), (2, 24470)]\n",
      "----------\n",
      "height\n",
      "109\n",
      "----------\n",
      "weight\n",
      "287\n",
      "----------\n",
      "ap_hi\n",
      "153\n",
      "----------\n",
      "ap_lo\n",
      "157\n",
      "----------\n",
      "cholesterol\n",
      "3 [(1, 52385), (2, 9549), (3, 8066)]\n",
      "----------\n",
      "gluc\n",
      "3 [(1, 59479), (2, 5190), (3, 5331)]\n",
      "----------\n",
      "smoke\n",
      "2 [(0, 63831), (1, 6169)]\n",
      "----------\n",
      "alco\n",
      "2 [(0, 66236), (1, 3764)]\n",
      "----------\n",
      "active\n",
      "2 [(0, 13739), (1, 56261)]\n",
      "----------\n",
      "cardio\n",
      "2 [(0, 35021), (1, 34979)]\n",
      "----------\n"
     ]
    }
   ],
   "source": [
    "for c in df.columns:\n",
    "    n = df[c].nunique()\n",
    "    print(c)\n",
    "    if n <= 3:\n",
    "        print(n, sorted(df[c].value_counts().to_dict().items()))\n",
    "    else:\n",
    "        print(n)\n",
    "    print(10 * '-')"
   ]
  },
  {
   "cell_type": "markdown",
   "metadata": {
    "_uuid": "53507160b237077bf8b19fb987b910669c04ba8b",
    "papermill": {
     "duration": 0.058376,
     "end_time": "2020-11-24T13:51:15.417830",
     "exception": false,
     "start_time": "2020-11-24T13:51:15.359454",
     "status": "completed"
    },
    "tags": []
   },
   "source": [
    "In the end, we have:\n",
    "- 5 numerical features (excluding *id*);\n",
    "- 7 categorical features;\n",
    "- 70000 records in total."
   ]
  },
  {
   "cell_type": "markdown",
   "metadata": {
    "_uuid": "5f9dc83567c83c1ab2eeb4b855d3f8460c1a735e",
    "papermill": {
     "duration": 0.063606,
     "end_time": "2020-11-24T13:51:15.546719",
     "exception": false,
     "start_time": "2020-11-24T13:51:15.483113",
     "status": "completed"
    },
    "tags": []
   },
   "source": [
    "## 1.1. Basic observations"
   ]
  },
  {
   "cell_type": "markdown",
   "metadata": {
    "_uuid": "129e6509399146154e8c7e293a2fd11f5d267fa4",
    "papermill": {
     "duration": 0.059064,
     "end_time": "2020-11-24T13:51:15.660014",
     "exception": false,
     "start_time": "2020-11-24T13:51:15.600950",
     "status": "completed"
    },
    "tags": []
   },
   "source": [
    "**Question 1.1. (1 point). How many men and women are present in this dataset? Values of the `gender` feature were not given (whether \"1\" stands for women or for men) – figure this out by looking analyzing height, making the assumption that men are taller on average. **\n",
    "1. 45530 women and 24470 men\n",
    "2. 45530 men and 24470 women\n",
    "3. 45470 women and 24530 men\n",
    "4. 45470 men and 24530 women"
   ]
  },
  {
   "cell_type": "code",
   "execution_count": 7,
   "metadata": {
    "execution": {
     "iopub.execute_input": "2020-11-24T13:51:15.775027Z",
     "iopub.status.busy": "2020-11-24T13:51:15.774192Z",
     "iopub.status.idle": "2020-11-24T13:51:15.786829Z",
     "shell.execute_reply": "2020-11-24T13:51:15.786091Z"
    },
    "papermill": {
     "duration": 0.072398,
     "end_time": "2020-11-24T13:51:15.786958",
     "exception": false,
     "start_time": "2020-11-24T13:51:15.714560",
     "status": "completed"
    },
    "tags": []
   },
   "outputs": [
    {
     "data": {
      "text/plain": [
       "gender\n",
       "1    161.355612\n",
       "2    169.947895\n",
       "Name: height, dtype: float64"
      ]
     },
     "execution_count": 7,
     "metadata": {},
     "output_type": "execute_result"
    }
   ],
   "source": [
    "df.groupby(['gender'])['height'].mean()"
   ]
  },
  {
   "cell_type": "markdown",
   "metadata": {
    "papermill": {
     "duration": 0.054449,
     "end_time": "2020-11-24T13:51:15.896146",
     "exception": false,
     "start_time": "2020-11-24T13:51:15.841697",
     "status": "completed"
    },
    "tags": []
   },
   "source": [
    "Из условия задания и полученных результатов можем сделать вывод, что 1 - female, 2 - male. "
   ]
  },
  {
   "cell_type": "code",
   "execution_count": 8,
   "metadata": {
    "execution": {
     "iopub.execute_input": "2020-11-24T13:51:16.011390Z",
     "iopub.status.busy": "2020-11-24T13:51:16.010639Z",
     "iopub.status.idle": "2020-11-24T13:51:16.017567Z",
     "shell.execute_reply": "2020-11-24T13:51:16.016865Z"
    },
    "papermill": {
     "duration": 0.06687,
     "end_time": "2020-11-24T13:51:16.017692",
     "exception": false,
     "start_time": "2020-11-24T13:51:15.950822",
     "status": "completed"
    },
    "tags": []
   },
   "outputs": [
    {
     "data": {
      "text/plain": [
       "1    45530\n",
       "2    24470\n",
       "Name: gender, dtype: int64"
      ]
     },
     "execution_count": 8,
     "metadata": {},
     "output_type": "execute_result"
    }
   ],
   "source": [
    "df['gender'].value_counts()"
   ]
  },
  {
   "cell_type": "markdown",
   "metadata": {
    "papermill": {
     "duration": 0.054614,
     "end_time": "2020-11-24T13:51:16.128226",
     "exception": false,
     "start_time": "2020-11-24T13:51:16.073612",
     "status": "completed"
    },
    "tags": []
   },
   "source": [
    "45530 - female, 24470 - male."
   ]
  },
  {
   "cell_type": "markdown",
   "metadata": {
    "_uuid": "d6b36cf91cd63fcce92c4177475820bd6b94ec89",
    "papermill": {
     "duration": 0.05566,
     "end_time": "2020-11-24T13:51:16.240265",
     "exception": false,
     "start_time": "2020-11-24T13:51:16.184605",
     "status": "completed"
    },
    "tags": []
   },
   "source": [
    "**Question 1.2. (1 point). Which gender more often reports consuming alcohol - men or women?**\n",
    "1. women\n",
    "2. men"
   ]
  },
  {
   "cell_type": "code",
   "execution_count": 9,
   "metadata": {
    "execution": {
     "iopub.execute_input": "2020-11-24T13:51:16.357511Z",
     "iopub.status.busy": "2020-11-24T13:51:16.356433Z",
     "iopub.status.idle": "2020-11-24T13:51:16.365446Z",
     "shell.execute_reply": "2020-11-24T13:51:16.364882Z"
    },
    "papermill": {
     "duration": 0.070164,
     "end_time": "2020-11-24T13:51:16.365591",
     "exception": false,
     "start_time": "2020-11-24T13:51:16.295427",
     "status": "completed"
    },
    "tags": []
   },
   "outputs": [
    {
     "data": {
      "text/plain": [
       "gender\n",
       "1    0.025500\n",
       "2    0.106375\n",
       "Name: alco, dtype: float64"
      ]
     },
     "execution_count": 9,
     "metadata": {},
     "output_type": "execute_result"
    }
   ],
   "source": [
    "df.groupby(['gender'])['alco'].mean()"
   ]
  },
  {
   "cell_type": "markdown",
   "metadata": {
    "papermill": {
     "duration": 0.056025,
     "end_time": "2020-11-24T13:51:16.478030",
     "exception": false,
     "start_time": "2020-11-24T13:51:16.422005",
     "status": "completed"
    },
    "tags": []
   },
   "source": [
    "Answer: men"
   ]
  },
  {
   "cell_type": "markdown",
   "metadata": {
    "_uuid": "8b98389e26edd01374d6217d8dd1e2d5ffff9d1c",
    "papermill": {
     "duration": 0.05541,
     "end_time": "2020-11-24T13:51:16.589484",
     "exception": false,
     "start_time": "2020-11-24T13:51:16.534074",
     "status": "completed"
    },
    "tags": []
   },
   "source": [
    "**Question 1.3. (1 point). What is the difference between the percentages of smokers among men and women (rounded)?**\n",
    "1. 4\n",
    "2. 16\n",
    "3. 20\n",
    "4. 24"
   ]
  },
  {
   "cell_type": "code",
   "execution_count": 10,
   "metadata": {
    "execution": {
     "iopub.execute_input": "2020-11-24T13:51:16.709147Z",
     "iopub.status.busy": "2020-11-24T13:51:16.708030Z",
     "iopub.status.idle": "2020-11-24T13:51:16.717168Z",
     "shell.execute_reply": "2020-11-24T13:51:16.716573Z"
    },
    "papermill": {
     "duration": 0.070919,
     "end_time": "2020-11-24T13:51:16.717297",
     "exception": false,
     "start_time": "2020-11-24T13:51:16.646378",
     "status": "completed"
    },
    "tags": []
   },
   "outputs": [
    {
     "data": {
      "text/plain": [
       "gender\n",
       "1    0.017856\n",
       "2    0.218880\n",
       "Name: smoke, dtype: float64"
      ]
     },
     "execution_count": 10,
     "metadata": {},
     "output_type": "execute_result"
    }
   ],
   "source": [
    "df.groupby(['gender'])['smoke'].mean()"
   ]
  },
  {
   "cell_type": "code",
   "execution_count": 11,
   "metadata": {
    "execution": {
     "iopub.execute_input": "2020-11-24T13:51:16.839130Z",
     "iopub.status.busy": "2020-11-24T13:51:16.838253Z",
     "iopub.status.idle": "2020-11-24T13:51:16.846848Z",
     "shell.execute_reply": "2020-11-24T13:51:16.846092Z"
    },
    "papermill": {
     "duration": 0.072709,
     "end_time": "2020-11-24T13:51:16.846983",
     "exception": false,
     "start_time": "2020-11-24T13:51:16.774274",
     "status": "completed"
    },
    "tags": []
   },
   "outputs": [
    {
     "data": {
      "text/plain": [
       "20"
      ]
     },
     "execution_count": 11,
     "metadata": {},
     "output_type": "execute_result"
    }
   ],
   "source": [
    "round(100*(df.loc[df['gender'] == 2, 'smoke'].mean() - df.loc[df['gender'] == 1, 'smoke'].mean()))"
   ]
  },
  {
   "cell_type": "markdown",
   "metadata": {
    "papermill": {
     "duration": 0.056644,
     "end_time": "2020-11-24T13:51:16.961442",
     "exception": false,
     "start_time": "2020-11-24T13:51:16.904798",
     "status": "completed"
    },
    "tags": []
   },
   "source": [
    "Answer: 20"
   ]
  },
  {
   "cell_type": "markdown",
   "metadata": {
    "_uuid": "c92554c5fe98a07b298cec98eaa2622a3bedbeeb",
    "papermill": {
     "duration": 0.057629,
     "end_time": "2020-11-24T13:51:17.077497",
     "exception": false,
     "start_time": "2020-11-24T13:51:17.019868",
     "status": "completed"
    },
    "tags": []
   },
   "source": [
    "**Question 1.4. (1 point). What is the difference between median values of age for smokers and non-smokers (in months, rounded)? You'll need to figure out the units of feature `age` in this dataset.**\n",
    "\n",
    "1. 5\n",
    "2. 10\n",
    "3. 15\n",
    "4. 20"
   ]
  },
  {
   "cell_type": "code",
   "execution_count": 12,
   "metadata": {
    "execution": {
     "iopub.execute_input": "2020-11-24T13:51:17.200018Z",
     "iopub.status.busy": "2020-11-24T13:51:17.199153Z",
     "iopub.status.idle": "2020-11-24T13:51:17.209351Z",
     "shell.execute_reply": "2020-11-24T13:51:17.208777Z"
    },
    "papermill": {
     "duration": 0.074583,
     "end_time": "2020-11-24T13:51:17.209483",
     "exception": false,
     "start_time": "2020-11-24T13:51:17.134900",
     "status": "completed"
    },
    "tags": []
   },
   "outputs": [
    {
     "name": "stdout",
     "output_type": "stream",
     "text": [
      "20.0\n"
     ]
    }
   ],
   "source": [
    "medians = df.groupby(['smoke'])['age'].median() #in days\n",
    "result = round((medians[0] - medians[1]) / 30) #calculate in month\n",
    "print(result)"
   ]
  },
  {
   "cell_type": "markdown",
   "metadata": {
    "papermill": {
     "duration": 0.058184,
     "end_time": "2020-11-24T13:51:17.325745",
     "exception": false,
     "start_time": "2020-11-24T13:51:17.267561",
     "status": "completed"
    },
    "tags": []
   },
   "source": [
    "Answer: 20"
   ]
  },
  {
   "cell_type": "markdown",
   "metadata": {
    "_uuid": "ac5d59876eb97782eab5f038aa8b2335e014d9bf",
    "papermill": {
     "duration": 0.057744,
     "end_time": "2020-11-24T13:51:17.441407",
     "exception": false,
     "start_time": "2020-11-24T13:51:17.383663",
     "status": "completed"
    },
    "tags": []
   },
   "source": [
    "## 1.2. Risk maps\n",
    "### Task:"
   ]
  },
  {
   "cell_type": "markdown",
   "metadata": {
    "_uuid": "9efc6fd8ff26ea2ddf95e7e0b70ef3b802f83af5",
    "papermill": {
     "duration": 0.057366,
     "end_time": "2020-11-24T13:51:17.556645",
     "exception": false,
     "start_time": "2020-11-24T13:51:17.499279",
     "status": "completed"
    },
    "tags": []
   },
   "source": [
    "On the website for the European Society of Cardiology, a [SCORE scale](https://www.escardio.org/Education/Practice-Tools/CVD-prevention-toolbox/SCORE-Risk-Charts) is provided. It is used for calculating the risk of death from a cardiovascular decease in the next 10 years. Here it is:\n",
    "<img src=https://habrastorage.org/webt/ik/gx/hr/ikgxhr3w1vzqihgitgrbdorfb14.png width=30%>\n",
    "\n",
    "Let's take a look at the upper-right rectangle, which shows a subset of smoking men aged from 60 to 65. (It's not obvious, but the values in the figure represent the upper bound).\n",
    "\n",
    "We see the value 9 in the lower-left corner of the rectangle and 47 in the upper-right. This means that, for people in this gender-age group whose systolic pressure is less than 120, the risk of a CVD is estimated to be 5 times lower than for those with the pressure in the interval [160,180).\n",
    "\n",
    "Let's calculate that same ratio using our data.\n",
    "\n",
    "Clarifications:\n",
    "- Calculate ``age_years`` feature – round age to the nearest number of years. For this task, select only the people of age 60 to 64, inclusive.\n",
    "- Cholesterol level categories differ between the figure and our dataset. The conversion for the ``cholesterol`` feature is as follows: 4 mmol/l $\\rightarrow$ 1, 5-7 mmol/l $\\rightarrow$ 2, 8 mmol/l $\\rightarrow$ 3."
   ]
  },
  {
   "cell_type": "markdown",
   "metadata": {
    "papermill": {
     "duration": 0.056932,
     "end_time": "2020-11-24T13:51:17.671630",
     "exception": false,
     "start_time": "2020-11-24T13:51:17.614698",
     "status": "completed"
    },
    "tags": []
   },
   "source": [
    "1. Создадим новый признак - возраст(в годах)"
   ]
  },
  {
   "cell_type": "code",
   "execution_count": 13,
   "metadata": {
    "_uuid": "8caffb39e65c95e4cfebfe448bbe224af4d0766c",
    "execution": {
     "iopub.execute_input": "2020-11-24T13:51:17.839310Z",
     "iopub.status.busy": "2020-11-24T13:51:17.838539Z",
     "iopub.status.idle": "2020-11-24T13:51:17.847493Z",
     "shell.execute_reply": "2020-11-24T13:51:17.846768Z"
    },
    "papermill": {
     "duration": 0.118338,
     "end_time": "2020-11-24T13:51:17.847632",
     "exception": false,
     "start_time": "2020-11-24T13:51:17.729294",
     "status": "completed"
    },
    "tags": []
   },
   "outputs": [],
   "source": [
    "extended_df = df.copy(deep=True)\n",
    "extended_df['age_years'] = round(extended_df['age'] / 365).astype('int')"
   ]
  },
  {
   "cell_type": "code",
   "execution_count": 14,
   "metadata": {
    "execution": {
     "iopub.execute_input": "2020-11-24T13:51:17.979469Z",
     "iopub.status.busy": "2020-11-24T13:51:17.978440Z",
     "iopub.status.idle": "2020-11-24T13:51:17.983313Z",
     "shell.execute_reply": "2020-11-24T13:51:17.982595Z"
    },
    "papermill": {
     "duration": 0.078432,
     "end_time": "2020-11-24T13:51:17.983433",
     "exception": false,
     "start_time": "2020-11-24T13:51:17.905001",
     "status": "completed"
    },
    "tags": []
   },
   "outputs": [
    {
     "data": {
      "text/html": [
       "<div>\n",
       "<style scoped>\n",
       "    .dataframe tbody tr th:only-of-type {\n",
       "        vertical-align: middle;\n",
       "    }\n",
       "\n",
       "    .dataframe tbody tr th {\n",
       "        vertical-align: top;\n",
       "    }\n",
       "\n",
       "    .dataframe thead th {\n",
       "        text-align: right;\n",
       "    }\n",
       "</style>\n",
       "<table border=\"1\" class=\"dataframe\">\n",
       "  <thead>\n",
       "    <tr style=\"text-align: right;\">\n",
       "      <th></th>\n",
       "      <th>id</th>\n",
       "      <th>age</th>\n",
       "      <th>gender</th>\n",
       "      <th>height</th>\n",
       "      <th>weight</th>\n",
       "      <th>ap_hi</th>\n",
       "      <th>ap_lo</th>\n",
       "      <th>cholesterol</th>\n",
       "      <th>gluc</th>\n",
       "      <th>smoke</th>\n",
       "      <th>alco</th>\n",
       "      <th>active</th>\n",
       "      <th>cardio</th>\n",
       "      <th>age_years</th>\n",
       "    </tr>\n",
       "  </thead>\n",
       "  <tbody>\n",
       "    <tr>\n",
       "      <th>0</th>\n",
       "      <td>0</td>\n",
       "      <td>18393</td>\n",
       "      <td>2</td>\n",
       "      <td>168</td>\n",
       "      <td>62.0</td>\n",
       "      <td>110</td>\n",
       "      <td>80</td>\n",
       "      <td>1</td>\n",
       "      <td>1</td>\n",
       "      <td>0</td>\n",
       "      <td>0</td>\n",
       "      <td>1</td>\n",
       "      <td>0</td>\n",
       "      <td>50</td>\n",
       "    </tr>\n",
       "    <tr>\n",
       "      <th>1</th>\n",
       "      <td>1</td>\n",
       "      <td>20228</td>\n",
       "      <td>1</td>\n",
       "      <td>156</td>\n",
       "      <td>85.0</td>\n",
       "      <td>140</td>\n",
       "      <td>90</td>\n",
       "      <td>3</td>\n",
       "      <td>1</td>\n",
       "      <td>0</td>\n",
       "      <td>0</td>\n",
       "      <td>1</td>\n",
       "      <td>1</td>\n",
       "      <td>55</td>\n",
       "    </tr>\n",
       "    <tr>\n",
       "      <th>2</th>\n",
       "      <td>2</td>\n",
       "      <td>18857</td>\n",
       "      <td>1</td>\n",
       "      <td>165</td>\n",
       "      <td>64.0</td>\n",
       "      <td>130</td>\n",
       "      <td>70</td>\n",
       "      <td>3</td>\n",
       "      <td>1</td>\n",
       "      <td>0</td>\n",
       "      <td>0</td>\n",
       "      <td>0</td>\n",
       "      <td>1</td>\n",
       "      <td>52</td>\n",
       "    </tr>\n",
       "    <tr>\n",
       "      <th>3</th>\n",
       "      <td>3</td>\n",
       "      <td>17623</td>\n",
       "      <td>2</td>\n",
       "      <td>169</td>\n",
       "      <td>82.0</td>\n",
       "      <td>150</td>\n",
       "      <td>100</td>\n",
       "      <td>1</td>\n",
       "      <td>1</td>\n",
       "      <td>0</td>\n",
       "      <td>0</td>\n",
       "      <td>1</td>\n",
       "      <td>1</td>\n",
       "      <td>48</td>\n",
       "    </tr>\n",
       "    <tr>\n",
       "      <th>4</th>\n",
       "      <td>4</td>\n",
       "      <td>17474</td>\n",
       "      <td>1</td>\n",
       "      <td>156</td>\n",
       "      <td>56.0</td>\n",
       "      <td>100</td>\n",
       "      <td>60</td>\n",
       "      <td>1</td>\n",
       "      <td>1</td>\n",
       "      <td>0</td>\n",
       "      <td>0</td>\n",
       "      <td>0</td>\n",
       "      <td>0</td>\n",
       "      <td>48</td>\n",
       "    </tr>\n",
       "  </tbody>\n",
       "</table>\n",
       "</div>"
      ],
      "text/plain": [
       "   id    age  gender  height  weight  ap_hi  ap_lo  cholesterol  gluc  smoke  \\\n",
       "0   0  18393       2     168    62.0    110     80            1     1      0   \n",
       "1   1  20228       1     156    85.0    140     90            3     1      0   \n",
       "2   2  18857       1     165    64.0    130     70            3     1      0   \n",
       "3   3  17623       2     169    82.0    150    100            1     1      0   \n",
       "4   4  17474       1     156    56.0    100     60            1     1      0   \n",
       "\n",
       "   alco  active  cardio  age_years  \n",
       "0     0       1       0         50  \n",
       "1     0       1       1         55  \n",
       "2     0       0       1         52  \n",
       "3     0       1       1         48  \n",
       "4     0       0       0         48  "
      ]
     },
     "execution_count": 14,
     "metadata": {},
     "output_type": "execute_result"
    }
   ],
   "source": [
    "extended_df.head()"
   ]
  },
  {
   "cell_type": "markdown",
   "metadata": {
    "papermill": {
     "duration": 0.059962,
     "end_time": "2020-11-24T13:51:18.102476",
     "exception": false,
     "start_time": "2020-11-24T13:51:18.042514",
     "status": "completed"
    },
    "tags": []
   },
   "source": [
    "2. Выберем курящих мужчин возраста [60,64]"
   ]
  },
  {
   "cell_type": "code",
   "execution_count": 15,
   "metadata": {
    "execution": {
     "iopub.execute_input": "2020-11-24T13:51:18.312082Z",
     "iopub.status.busy": "2020-11-24T13:51:18.225310Z",
     "iopub.status.idle": "2020-11-24T13:51:18.324322Z",
     "shell.execute_reply": "2020-11-24T13:51:18.323721Z"
    },
    "papermill": {
     "duration": 0.163259,
     "end_time": "2020-11-24T13:51:18.324460",
     "exception": false,
     "start_time": "2020-11-24T13:51:18.161201",
     "status": "completed"
    },
    "tags": []
   },
   "outputs": [],
   "source": [
    "old_men_smokers = extended_df[(extended_df['age_years'] <= 64) & (extended_df['age_years'] >=60) & (extended_df['gender'] == 2) & extended_df['smoke'] == 1]"
   ]
  },
  {
   "cell_type": "markdown",
   "metadata": {
    "papermill": {
     "duration": 0.057836,
     "end_time": "2020-11-24T13:51:18.440105",
     "exception": false,
     "start_time": "2020-11-24T13:51:18.382269",
     "status": "completed"
    },
    "tags": []
   },
   "source": [
    "Среди них нужно выделить две группы - systolic plessure < 120, cholesteroc level -1 и systolic plessure [160, 180], cholesteroc level - 3"
   ]
  },
  {
   "cell_type": "code",
   "execution_count": 16,
   "metadata": {
    "execution": {
     "iopub.execute_input": "2020-11-24T13:51:18.570272Z",
     "iopub.status.busy": "2020-11-24T13:51:18.569298Z",
     "iopub.status.idle": "2020-11-24T13:51:18.572959Z",
     "shell.execute_reply": "2020-11-24T13:51:18.573578Z"
    },
    "papermill": {
     "duration": 0.074861,
     "end_time": "2020-11-24T13:51:18.573735",
     "exception": false,
     "start_time": "2020-11-24T13:51:18.498874",
     "status": "completed"
    },
    "tags": []
   },
   "outputs": [
    {
     "name": "stdout",
     "output_type": "stream",
     "text": [
      "3\n"
     ]
    }
   ],
   "source": [
    "first_proportion = round(old_men_smokers[(old_men_smokers['ap_hi'] < 120) & (old_men_smokers['cholesterol'] == 1)]['cardio'].mean()*100)\n",
    "second_proportion = round(old_men_smokers[(old_men_smokers['ap_hi'] <180) & (old_men_smokers['ap_hi'] >=160) & (old_men_smokers['cholesterol'] == 3)]['cardio'].mean()*100)\n",
    "ratio = round(second_proportion/first_proportion)\n",
    "print(ratio)"
   ]
  },
  {
   "cell_type": "markdown",
   "metadata": {
    "_uuid": "e71f8859a7fb8f23a78ac84b861d41c8f1b9e11f",
    "papermill": {
     "duration": 0.0589,
     "end_time": "2020-11-24T13:51:18.692952",
     "exception": false,
     "start_time": "2020-11-24T13:51:18.634052",
     "status": "completed"
    },
    "tags": []
   },
   "source": [
    "**Question 1.5. (2 points). Calculate the fraction of the people with CVD for the two segments described above. What is the ratio of these two fractions?**\n",
    "\n",
    "1. 1\n",
    "2. 2\n",
    "3. 3\n",
    "4. 4"
   ]
  },
  {
   "cell_type": "raw",
   "metadata": {
    "papermill": {
     "duration": 0.059364,
     "end_time": "2020-11-24T13:51:18.812120",
     "exception": false,
     "start_time": "2020-11-24T13:51:18.752756",
     "status": "completed"
    },
    "tags": []
   },
   "source": [
    "Answer: 3"
   ]
  },
  {
   "cell_type": "markdown",
   "metadata": {
    "_uuid": "54cef692e0af3745091c7177d63a2d6c36044474",
    "papermill": {
     "duration": 0.058261,
     "end_time": "2020-11-24T13:51:18.930280",
     "exception": false,
     "start_time": "2020-11-24T13:51:18.872019",
     "status": "completed"
    },
    "tags": []
   },
   "source": [
    "## 1.3. Analyzing BMI\n",
    "### Task:"
   ]
  },
  {
   "cell_type": "markdown",
   "metadata": {
    "_uuid": "c52b4b1c20956e3cc420bb13e7bb12d80aa3ef1a",
    "papermill": {
     "duration": 0.05946,
     "end_time": "2020-11-24T13:51:19.050017",
     "exception": false,
     "start_time": "2020-11-24T13:51:18.990557",
     "status": "completed"
    },
    "tags": []
   },
   "source": [
    "Create a new feature – BMI ([Body Mass Index](https://en.wikipedia.org/wiki/Body_mass_index)). To do this, divide weight in kilogramms by the square of the height in meters. Normal BMI values are said to be from 18.5 to 25. "
   ]
  },
  {
   "cell_type": "code",
   "execution_count": 17,
   "metadata": {
    "_uuid": "5b3134f2597650ae95d0196393b30797518f0498",
    "execution": {
     "iopub.execute_input": "2020-11-24T13:51:19.176966Z",
     "iopub.status.busy": "2020-11-24T13:51:19.176118Z",
     "iopub.status.idle": "2020-11-24T13:51:19.195874Z",
     "shell.execute_reply": "2020-11-24T13:51:19.195148Z"
    },
    "papermill": {
     "duration": 0.085264,
     "end_time": "2020-11-24T13:51:19.195995",
     "exception": false,
     "start_time": "2020-11-24T13:51:19.110731",
     "status": "completed"
    },
    "tags": []
   },
   "outputs": [
    {
     "data": {
      "text/html": [
       "<div>\n",
       "<style scoped>\n",
       "    .dataframe tbody tr th:only-of-type {\n",
       "        vertical-align: middle;\n",
       "    }\n",
       "\n",
       "    .dataframe tbody tr th {\n",
       "        vertical-align: top;\n",
       "    }\n",
       "\n",
       "    .dataframe thead th {\n",
       "        text-align: right;\n",
       "    }\n",
       "</style>\n",
       "<table border=\"1\" class=\"dataframe\">\n",
       "  <thead>\n",
       "    <tr style=\"text-align: right;\">\n",
       "      <th></th>\n",
       "      <th>id</th>\n",
       "      <th>age</th>\n",
       "      <th>gender</th>\n",
       "      <th>height</th>\n",
       "      <th>weight</th>\n",
       "      <th>ap_hi</th>\n",
       "      <th>ap_lo</th>\n",
       "      <th>cholesterol</th>\n",
       "      <th>gluc</th>\n",
       "      <th>smoke</th>\n",
       "      <th>alco</th>\n",
       "      <th>active</th>\n",
       "      <th>cardio</th>\n",
       "      <th>age_years</th>\n",
       "      <th>BMI</th>\n",
       "    </tr>\n",
       "  </thead>\n",
       "  <tbody>\n",
       "    <tr>\n",
       "      <th>0</th>\n",
       "      <td>0</td>\n",
       "      <td>18393</td>\n",
       "      <td>2</td>\n",
       "      <td>168</td>\n",
       "      <td>62.0</td>\n",
       "      <td>110</td>\n",
       "      <td>80</td>\n",
       "      <td>1</td>\n",
       "      <td>1</td>\n",
       "      <td>0</td>\n",
       "      <td>0</td>\n",
       "      <td>1</td>\n",
       "      <td>0</td>\n",
       "      <td>50</td>\n",
       "      <td>21.967120</td>\n",
       "    </tr>\n",
       "    <tr>\n",
       "      <th>1</th>\n",
       "      <td>1</td>\n",
       "      <td>20228</td>\n",
       "      <td>1</td>\n",
       "      <td>156</td>\n",
       "      <td>85.0</td>\n",
       "      <td>140</td>\n",
       "      <td>90</td>\n",
       "      <td>3</td>\n",
       "      <td>1</td>\n",
       "      <td>0</td>\n",
       "      <td>0</td>\n",
       "      <td>1</td>\n",
       "      <td>1</td>\n",
       "      <td>55</td>\n",
       "      <td>34.927679</td>\n",
       "    </tr>\n",
       "    <tr>\n",
       "      <th>2</th>\n",
       "      <td>2</td>\n",
       "      <td>18857</td>\n",
       "      <td>1</td>\n",
       "      <td>165</td>\n",
       "      <td>64.0</td>\n",
       "      <td>130</td>\n",
       "      <td>70</td>\n",
       "      <td>3</td>\n",
       "      <td>1</td>\n",
       "      <td>0</td>\n",
       "      <td>0</td>\n",
       "      <td>0</td>\n",
       "      <td>1</td>\n",
       "      <td>52</td>\n",
       "      <td>23.507805</td>\n",
       "    </tr>\n",
       "    <tr>\n",
       "      <th>3</th>\n",
       "      <td>3</td>\n",
       "      <td>17623</td>\n",
       "      <td>2</td>\n",
       "      <td>169</td>\n",
       "      <td>82.0</td>\n",
       "      <td>150</td>\n",
       "      <td>100</td>\n",
       "      <td>1</td>\n",
       "      <td>1</td>\n",
       "      <td>0</td>\n",
       "      <td>0</td>\n",
       "      <td>1</td>\n",
       "      <td>1</td>\n",
       "      <td>48</td>\n",
       "      <td>28.710479</td>\n",
       "    </tr>\n",
       "    <tr>\n",
       "      <th>4</th>\n",
       "      <td>4</td>\n",
       "      <td>17474</td>\n",
       "      <td>1</td>\n",
       "      <td>156</td>\n",
       "      <td>56.0</td>\n",
       "      <td>100</td>\n",
       "      <td>60</td>\n",
       "      <td>1</td>\n",
       "      <td>1</td>\n",
       "      <td>0</td>\n",
       "      <td>0</td>\n",
       "      <td>0</td>\n",
       "      <td>0</td>\n",
       "      <td>48</td>\n",
       "      <td>23.011177</td>\n",
       "    </tr>\n",
       "  </tbody>\n",
       "</table>\n",
       "</div>"
      ],
      "text/plain": [
       "   id    age  gender  height  weight  ap_hi  ap_lo  cholesterol  gluc  smoke  \\\n",
       "0   0  18393       2     168    62.0    110     80            1     1      0   \n",
       "1   1  20228       1     156    85.0    140     90            3     1      0   \n",
       "2   2  18857       1     165    64.0    130     70            3     1      0   \n",
       "3   3  17623       2     169    82.0    150    100            1     1      0   \n",
       "4   4  17474       1     156    56.0    100     60            1     1      0   \n",
       "\n",
       "   alco  active  cardio  age_years        BMI  \n",
       "0     0       1       0         50  21.967120  \n",
       "1     0       1       1         55  34.927679  \n",
       "2     0       0       1         52  23.507805  \n",
       "3     0       1       1         48  28.710479  \n",
       "4     0       0       0         48  23.011177  "
      ]
     },
     "execution_count": 17,
     "metadata": {},
     "output_type": "execute_result"
    }
   ],
   "source": [
    "extended_df['BMI'] = df['weight'] / ((extended_df['height'] / 100)**2)\n",
    "extended_df.head()"
   ]
  },
  {
   "cell_type": "markdown",
   "metadata": {
    "_uuid": "1c2baed24cc5b3abb94b5c6c09d571f29b39213b",
    "papermill": {
     "duration": 0.061728,
     "end_time": "2020-11-24T13:51:19.321433",
     "exception": false,
     "start_time": "2020-11-24T13:51:19.259705",
     "status": "completed"
    },
    "tags": []
   },
   "source": [
    "**Question 1.6. (2 points). Choose the correct statements:**\n",
    "\n",
    "1. Median BMI in the sample is within the range of normal BMI values.\n",
    "2. The BMI for women is on average higher than for men.\n",
    "3. Healthy people have, on average, a higher BMI than the people with CVD.\n",
    "4. For healthy, non-drinking men, BMI is closer to the norm than for healthy, non-drinking women"
   ]
  },
  {
   "cell_type": "code",
   "execution_count": 18,
   "metadata": {
    "execution": {
     "iopub.execute_input": "2020-11-24T13:51:19.449380Z",
     "iopub.status.busy": "2020-11-24T13:51:19.448610Z",
     "iopub.status.idle": "2020-11-24T13:51:19.454162Z",
     "shell.execute_reply": "2020-11-24T13:51:19.454768Z"
    },
    "papermill": {
     "duration": 0.072565,
     "end_time": "2020-11-24T13:51:19.454939",
     "exception": false,
     "start_time": "2020-11-24T13:51:19.382374",
     "status": "completed"
    },
    "tags": []
   },
   "outputs": [
    {
     "name": "stdout",
     "output_type": "stream",
     "text": [
      "Median BMI in the sample is within the range of normal BMI values - False\n"
     ]
    }
   ],
   "source": [
    "answer = 18.5 <= extended_df['BMI'].median() <= 25\n",
    "print(\"Median BMI in the sample is within the range of normal BMI values - {0}\".format(answer))"
   ]
  },
  {
   "cell_type": "code",
   "execution_count": 19,
   "metadata": {
    "execution": {
     "iopub.execute_input": "2020-11-24T13:51:19.580786Z",
     "iopub.status.busy": "2020-11-24T13:51:19.579992Z",
     "iopub.status.idle": "2020-11-24T13:51:19.587341Z",
     "shell.execute_reply": "2020-11-24T13:51:19.587951Z"
    },
    "papermill": {
     "duration": 0.072956,
     "end_time": "2020-11-24T13:51:19.588100",
     "exception": false,
     "start_time": "2020-11-24T13:51:19.515144",
     "status": "completed"
    },
    "tags": []
   },
   "outputs": [
    {
     "data": {
      "text/plain": [
       "gender\n",
       "1    27.987583\n",
       "2    26.754442\n",
       "Name: BMI, dtype: float64"
      ]
     },
     "execution_count": 19,
     "metadata": {},
     "output_type": "execute_result"
    }
   ],
   "source": [
    "#2\n",
    "extended_df.groupby('gender')['BMI'].mean() #true"
   ]
  },
  {
   "cell_type": "markdown",
   "metadata": {
    "papermill": {
     "duration": 0.060236,
     "end_time": "2020-11-24T13:51:19.709157",
     "exception": false,
     "start_time": "2020-11-24T13:51:19.648921",
     "status": "completed"
    },
    "tags": []
   },
   "source": [
    "The BMI for women is on average higher than for men - True."
   ]
  },
  {
   "cell_type": "code",
   "execution_count": 20,
   "metadata": {
    "execution": {
     "iopub.execute_input": "2020-11-24T13:51:19.836632Z",
     "iopub.status.busy": "2020-11-24T13:51:19.835848Z",
     "iopub.status.idle": "2020-11-24T13:51:19.844081Z",
     "shell.execute_reply": "2020-11-24T13:51:19.843374Z"
    },
    "papermill": {
     "duration": 0.074356,
     "end_time": "2020-11-24T13:51:19.844201",
     "exception": false,
     "start_time": "2020-11-24T13:51:19.769845",
     "status": "completed"
    },
    "tags": []
   },
   "outputs": [
    {
     "data": {
      "text/plain": [
       "cardio\n",
       "0    26.548175\n",
       "1    28.566061\n",
       "Name: BMI, dtype: float64"
      ]
     },
     "execution_count": 20,
     "metadata": {},
     "output_type": "execute_result"
    }
   ],
   "source": [
    "#3\n",
    "extended_df.groupby('cardio')['BMI'].mean() #false"
   ]
  },
  {
   "cell_type": "markdown",
   "metadata": {
    "papermill": {
     "duration": 0.060706,
     "end_time": "2020-11-24T13:51:19.966028",
     "exception": false,
     "start_time": "2020-11-24T13:51:19.905322",
     "status": "completed"
    },
    "tags": []
   },
   "source": [
    "Healthy people have, on average, a higher BMI than the people with CVD - False"
   ]
  },
  {
   "cell_type": "code",
   "execution_count": 21,
   "metadata": {
    "execution": {
     "iopub.execute_input": "2020-11-24T13:51:20.095641Z",
     "iopub.status.busy": "2020-11-24T13:51:20.094889Z",
     "iopub.status.idle": "2020-11-24T13:51:20.107665Z",
     "shell.execute_reply": "2020-11-24T13:51:20.107053Z"
    },
    "papermill": {
     "duration": 0.079955,
     "end_time": "2020-11-24T13:51:20.107798",
     "exception": false,
     "start_time": "2020-11-24T13:51:20.027843",
     "status": "completed"
    },
    "tags": []
   },
   "outputs": [
    {
     "data": {
      "text/plain": [
       "cardio  gender  alco\n",
       "0       1       0       26.845407\n",
       "                1       28.671457\n",
       "        2       0       25.872638\n",
       "                1       26.097220\n",
       "1       1       0       29.052771\n",
       "                1       30.812347\n",
       "        2       0       27.522450\n",
       "                1       28.226569\n",
       "Name: BMI, dtype: float64"
      ]
     },
     "execution_count": 21,
     "metadata": {},
     "output_type": "execute_result"
    }
   ],
   "source": [
    "#4\n",
    "extended_df.groupby(['cardio', 'gender', 'alco'])['BMI'].mean() #true"
   ]
  },
  {
   "cell_type": "markdown",
   "metadata": {
    "papermill": {
     "duration": 0.061491,
     "end_time": "2020-11-24T13:51:20.231667",
     "exception": false,
     "start_time": "2020-11-24T13:51:20.170176",
     "status": "completed"
    },
    "tags": []
   },
   "source": [
    "For healthy, non-drinking men, BMI is closer to the norm than for healthy, non-drinking women - True"
   ]
  },
  {
   "cell_type": "markdown",
   "metadata": {
    "_uuid": "2e059032eee1d57c896e24a98b659a5ab16144fd",
    "papermill": {
     "duration": 0.061284,
     "end_time": "2020-11-24T13:51:20.357054",
     "exception": false,
     "start_time": "2020-11-24T13:51:20.295770",
     "status": "completed"
    },
    "tags": []
   },
   "source": [
    "## 1.4. Cleaning data"
   ]
  },
  {
   "cell_type": "markdown",
   "metadata": {
    "_uuid": "26ccfbcb212c3631b4941a294906c027b974301a",
    "papermill": {
     "duration": 0.061436,
     "end_time": "2020-11-24T13:51:20.479858",
     "exception": false,
     "start_time": "2020-11-24T13:51:20.418422",
     "status": "completed"
    },
    "tags": []
   },
   "source": [
    "### Task:\n",
    "We can see that the data is not perfect. It contains \"dirt\" and inaccuracies. We'll see this better as we visualize the data.\n",
    "\n",
    "Filter out the following patient segments (we consider these as erroneous data)\n",
    "\n",
    "- diastolic pressure is higher than systolic \n",
    "- height is strictly less than 2.5 percentile (Use `pd.Series.quantile` to compute this value. If you are not familiar with the function, please read the docs.)\n",
    "- height is strictly more than 97.5 percentile\n",
    "- weight is strictly less than 2.5 percentile\n",
    "- weight is strictly more than 97.5 percentile\n",
    "\n",
    "This is not everything that we can do to clean this data, but this is sufficient for now."
   ]
  },
  {
   "cell_type": "code",
   "execution_count": 22,
   "metadata": {
    "_uuid": "483fd26f0aff141810dcb084095c380acafbfbdd",
    "execution": {
     "iopub.execute_input": "2020-11-24T13:51:20.613266Z",
     "iopub.status.busy": "2020-11-24T13:51:20.612438Z",
     "iopub.status.idle": "2020-11-24T13:51:20.632504Z",
     "shell.execute_reply": "2020-11-24T13:51:20.631859Z"
    },
    "papermill": {
     "duration": 0.091214,
     "end_time": "2020-11-24T13:51:20.632665",
     "exception": false,
     "start_time": "2020-11-24T13:51:20.541451",
     "status": "completed"
    },
    "tags": []
   },
   "outputs": [],
   "source": [
    "df_filtered = df[(df['ap_hi'] >= df['ap_lo']) &\n",
    "                 (df['height'] >= df['height'].quantile(0.025)) &\n",
    "                (df['height'] <= df['height'].quantile(0.975)) &\n",
    "                (df['weight'] >= df['weight'].quantile(0.025)) &\n",
    "                (df['weight'] <= df['weight'].quantile(0.975))]"
   ]
  },
  {
   "cell_type": "markdown",
   "metadata": {
    "_uuid": "f807adaa6459d1c75d202bb973831369d6eeb20e",
    "papermill": {
     "duration": 0.061948,
     "end_time": "2020-11-24T13:51:20.756707",
     "exception": false,
     "start_time": "2020-11-24T13:51:20.694759",
     "status": "completed"
    },
    "tags": []
   },
   "source": [
    "**Question 1.7. (2 points). What percent of the original data (rounded) did we throw away?**\n",
    "\n",
    "1. 8\n",
    "2. 9\n",
    "3. 10\n",
    "4. 11"
   ]
  },
  {
   "cell_type": "code",
   "execution_count": 23,
   "metadata": {
    "execution": {
     "iopub.execute_input": "2020-11-24T13:51:20.887822Z",
     "iopub.status.busy": "2020-11-24T13:51:20.886753Z",
     "iopub.status.idle": "2020-11-24T13:51:20.891243Z",
     "shell.execute_reply": "2020-11-24T13:51:20.890471Z"
    },
    "papermill": {
     "duration": 0.072628,
     "end_time": "2020-11-24T13:51:20.891371",
     "exception": false,
     "start_time": "2020-11-24T13:51:20.818743",
     "status": "completed"
    },
    "tags": []
   },
   "outputs": [
    {
     "name": "stdout",
     "output_type": "stream",
     "text": [
      "10\n"
     ]
    }
   ],
   "source": [
    "discardered_percents = round((df.shape[0] - df_filtered.shape[0]) / df.shape[0] * 100)\n",
    "print(discardered_percents)"
   ]
  },
  {
   "cell_type": "raw",
   "metadata": {
    "papermill": {
     "duration": 0.062454,
     "end_time": "2020-11-24T13:51:21.016290",
     "exception": false,
     "start_time": "2020-11-24T13:51:20.953836",
     "status": "completed"
    },
    "tags": []
   },
   "source": [
    "Answer: 3"
   ]
  },
  {
   "cell_type": "markdown",
   "metadata": {
    "_uuid": "a9f14b459f71ac2304e73145fc199a90131965e7",
    "papermill": {
     "duration": 0.064498,
     "end_time": "2020-11-24T13:51:21.143577",
     "exception": false,
     "start_time": "2020-11-24T13:51:21.079079",
     "status": "completed"
    },
    "tags": []
   },
   "source": [
    "# Part 2. Visual data analysis\n",
    "\n",
    "## 2.1. Correlation matrix visualization\n",
    "\n",
    "To understand the features better, you can create a matrix of the correlation coefficients between the features. Use the initial dataset (non-filtered).\n",
    "\n",
    "### Task:\n",
    "\n",
    "Plot a correlation matrix using [`heatmap()`](http://seaborn.pydata.org/generated/seaborn.heatmap.html). You can create the matrix using the standard `pandas` tools with the default parameters."
   ]
  },
  {
   "cell_type": "code",
   "execution_count": 24,
   "metadata": {
    "_uuid": "a9c19a7bf2dd564b484e8269886340c13967fede",
    "execution": {
     "iopub.execute_input": "2020-11-24T13:51:21.274882Z",
     "iopub.status.busy": "2020-11-24T13:51:21.274146Z",
     "iopub.status.idle": "2020-11-24T13:51:21.718658Z",
     "shell.execute_reply": "2020-11-24T13:51:21.717895Z"
    },
    "papermill": {
     "duration": 0.511873,
     "end_time": "2020-11-24T13:51:21.718797",
     "exception": false,
     "start_time": "2020-11-24T13:51:21.206924",
     "status": "completed"
    },
    "tags": []
   },
   "outputs": [
    {
     "data": {
      "text/plain": [
       "<matplotlib.axes._subplots.AxesSubplot at 0x7f3de44d0690>"
      ]
     },
     "execution_count": 24,
     "metadata": {},
     "output_type": "execute_result"
    },
    {
     "data": {
      "image/png": "[encoded data removed]",
      "text/plain": [
       "<Figure size 792x576 with 2 Axes>"
      ]
     },
     "metadata": {
      "needs_background": "light"
     },
     "output_type": "display_data"
    }
   ],
   "source": [
    "corr_matrix = df.corr(method=\"pearson\")\n",
    "sns.heatmap(corr_matrix)"
   ]
  },
  {
   "cell_type": "markdown",
   "metadata": {
    "_uuid": "987ff630db004c51cc9e89e0c6cf6d14d619c4c0",
    "papermill": {
     "duration": 0.06801,
     "end_time": "2020-11-24T13:51:21.851079",
     "exception": false,
     "start_time": "2020-11-24T13:51:21.783069",
     "status": "completed"
    },
    "tags": []
   },
   "source": [
    "** Question 2.1. (1 point).** Which pair of features has the strongest Pearson's correlation with the *gender* feature?\n",
    "\n",
    "1. Cardio, Cholesterol\n",
    "2. Height, Smoke\n",
    "3. Smoke, Alco\n",
    "4. Height, Weight"
   ]
  },
  {
   "cell_type": "markdown",
   "metadata": {
    "papermill": {
     "duration": 0.064202,
     "end_time": "2020-11-24T13:51:21.979837",
     "exception": false,
     "start_time": "2020-11-24T13:51:21.915635",
     "status": "completed"
    },
    "tags": []
   },
   "source": [
    "Answer: 2"
   ]
  },
  {
   "cell_type": "markdown",
   "metadata": {
    "_uuid": "01edf6a3a68f47f07164b3e4cb9e6ab5ef1efcd6",
    "papermill": {
     "duration": 0.064254,
     "end_time": "2020-11-24T13:51:22.108885",
     "exception": false,
     "start_time": "2020-11-24T13:51:22.044631",
     "status": "completed"
    },
    "tags": []
   },
   "source": [
    "## 2.2. Height distribution of men and women\n",
    "\n",
    "From our exploration of the unique values earlier, we know that the gender is encoded by the values *1* and *2*. Although you do not know the mapping of these values to gender, you can figure that out graphically by looking at the mean values of height and weight for each value of the *gender* feature.\n",
    "\n",
    "### Task:\n",
    "\n",
    "Create a violin plot for the height and gender using [`violinplot()`](https://seaborn.pydata.org/generated/seaborn.violinplot.html). Use the parameters:\n",
    "- `hue` to split by gender;\n",
    "- `scale` to evaluate the number of records for each gender.\n",
    "\n",
    "In order for the plot to render correctly, you need to convert your `DataFrame` to *long* format using the `melt()` function from `pandas`. Here is [an example](https://stackoverflow.com/a/41575149/3338479) of this for your reference."
   ]
  },
  {
   "cell_type": "code",
   "execution_count": 25,
   "metadata": {
    "_uuid": "71d38ccddbe26ca51c69fbdba7cc4405ee459de4",
    "execution": {
     "iopub.execute_input": "2020-11-24T13:51:22.248047Z",
     "iopub.status.busy": "2020-11-24T13:51:22.247228Z",
     "iopub.status.idle": "2020-11-24T13:51:22.700474Z",
     "shell.execute_reply": "2020-11-24T13:51:22.699790Z"
    },
    "papermill": {
     "duration": 0.52743,
     "end_time": "2020-11-24T13:51:22.700688",
     "exception": false,
     "start_time": "2020-11-24T13:51:22.173258",
     "status": "completed"
    },
    "tags": []
   },
   "outputs": [
    {
     "data": {
      "text/plain": [
       "<matplotlib.axes._subplots.AxesSubplot at 0x7f3dedaec110>"
      ]
     },
     "execution_count": 25,
     "metadata": {},
     "output_type": "execute_result"
    },
    {
     "data": {
      "image/png": "[encoded data removed]",
      "text/plain": [
       "<Figure size 792x576 with 1 Axes>"
      ]
     },
     "metadata": {
      "needs_background": "light"
     },
     "output_type": "display_data"
    }
   ],
   "source": [
    "df_melt = pd.melt(frame=df, value_vars=['height'], id_vars=['gender'])\n",
    "\n",
    "\n",
    "sns.violinplot(x = 'variable', y='value', data=df_melt, hue='gender', scale='count')"
   ]
  },
  {
   "cell_type": "markdown",
   "metadata": {
    "papermill": {
     "duration": 0.098231,
     "end_time": "2020-11-24T13:51:22.898203",
     "exception": false,
     "start_time": "2020-11-24T13:51:22.799972",
     "status": "completed"
    },
    "tags": []
   },
   "source": [
    "**Question 2.2. (1 point).** Which pair of features has the strongest Spearman correlation?\n",
    "\n",
    "1. Height, Weight\n",
    "2. Age, Weight\n",
    "3. Cholesterol, Gluc\n",
    "4. Cardio, Cholesterol\n",
    "5. Ap_hi, Ap_lo\n",
    "6. Smoke, Alco"
   ]
  },
  {
   "cell_type": "code",
   "execution_count": 26,
   "metadata": {
    "execution": {
     "iopub.execute_input": "2020-11-24T13:51:23.080386Z",
     "iopub.status.busy": "2020-11-24T13:51:23.079171Z",
     "iopub.status.idle": "2020-11-24T13:51:23.611828Z",
     "shell.execute_reply": "2020-11-24T13:51:23.612452Z"
    },
    "papermill": {
     "duration": 0.615565,
     "end_time": "2020-11-24T13:51:23.612640",
     "exception": false,
     "start_time": "2020-11-24T13:51:22.997075",
     "status": "completed"
    },
    "tags": []
   },
   "outputs": [
    {
     "data": {
      "text/plain": [
       "<matplotlib.axes._subplots.AxesSubplot at 0x7f3de439c690>"
      ]
     },
     "execution_count": 26,
     "metadata": {},
     "output_type": "execute_result"
    },
    {
     "data": {
      "image/png": "[encoded data removed]",
      "text/plain": [
       "<Figure size 792x576 with 2 Axes>"
      ]
     },
     "metadata": {
      "needs_background": "light"
     },
     "output_type": "display_data"
    }
   ],
   "source": [
    "corr_matrix = df.corr(method='spearman')\n",
    "sns.heatmap(corr_matrix)"
   ]
  },
  {
   "cell_type": "markdown",
   "metadata": {
    "papermill": {
     "duration": 0.067688,
     "end_time": "2020-11-24T13:51:23.748720",
     "exception": false,
     "start_time": "2020-11-24T13:51:23.681032",
     "status": "completed"
    },
    "tags": []
   },
   "source": [
    "Answer: 5"
   ]
  },
  {
   "cell_type": "markdown",
   "metadata": {
    "papermill": {
     "duration": 0.067711,
     "end_time": "2020-11-24T13:51:23.884141",
     "exception": false,
     "start_time": "2020-11-24T13:51:23.816430",
     "status": "completed"
    },
    "tags": []
   },
   "source": [
    "## 2.3. Rank correlation\n",
    "\n",
    "In most cases, *the Pearson coefficient of linear correlation* is more than enough to discover patterns in data. \n",
    "But let's go a little further and calculate a [rank correlation](https://en.wikipedia.org/wiki/Rank_correlation). It will help us to identify such feature pairs in which the lower rank in the variational series of one feature always precedes the higher rank in the another one (and we have the opposite in the case of negative correlation).\n",
    "\n",
    "### Task:\n",
    "\n",
    "Calculate and plot a correlation matrix using the [Spearman's rank correlation coefficient](https://en.wikipedia.org/wiki/Spearman%27s_rank_correlation_coefficient).\n"
   ]
  },
  {
   "cell_type": "code",
   "execution_count": 27,
   "metadata": {
    "execution": {
     "iopub.execute_input": "2020-11-24T13:51:24.025223Z",
     "iopub.status.busy": "2020-11-24T13:51:24.024478Z",
     "iopub.status.idle": "2020-11-24T13:51:24.539317Z",
     "shell.execute_reply": "2020-11-24T13:51:24.539971Z"
    },
    "papermill": {
     "duration": 0.588221,
     "end_time": "2020-11-24T13:51:24.540135",
     "exception": false,
     "start_time": "2020-11-24T13:51:23.951914",
     "status": "completed"
    },
    "tags": []
   },
   "outputs": [
    {
     "data": {
      "text/plain": [
       "<matplotlib.axes._subplots.AxesSubplot at 0x7f3de4451210>"
      ]
     },
     "execution_count": 27,
     "metadata": {},
     "output_type": "execute_result"
    },
    {
     "data": {
      "image/png": "[encoded data removed]",
      "text/plain": [
       "<Figure size 792x576 with 2 Axes>"
      ]
     },
     "metadata": {
      "needs_background": "light"
     },
     "output_type": "display_data"
    }
   ],
   "source": [
    "corr_matrix = df.corr(method='spearman')\n",
    "sns.heatmap(corr_matrix)"
   ]
  },
  {
   "cell_type": "markdown",
   "metadata": {
    "_uuid": "2282d0651afdbe69cdb68b266e509f20a865a63f",
    "papermill": {
     "duration": 0.070112,
     "end_time": "2020-11-24T13:51:24.680901",
     "exception": false,
     "start_time": "2020-11-24T13:51:24.610789",
     "status": "completed"
    },
    "tags": []
   },
   "source": [
    "**Question 2.3. (1 point).** Why do these features have strong rank correlation?\n",
    "\n",
    "1. Inaccuracies in the data (data acquisition errors).\n",
    "2. Relation is wrong, these features should not be related.\n",
    "3. Nature of the data."
   ]
  },
  {
   "cell_type": "markdown",
   "metadata": {
    "papermill": {
     "duration": 0.069632,
     "end_time": "2020-11-24T13:51:24.820634",
     "exception": false,
     "start_time": "2020-11-24T13:51:24.751002",
     "status": "completed"
    },
    "tags": []
   },
   "source": [
    "Answer: 3"
   ]
  },
  {
   "cell_type": "markdown",
   "metadata": {
    "_uuid": "25b4b303156fd6f9178c9b23fba4ff3f220a5977",
    "papermill": {
     "duration": 0.069872,
     "end_time": "2020-11-24T13:51:24.960293",
     "exception": false,
     "start_time": "2020-11-24T13:51:24.890421",
     "status": "completed"
    },
    "tags": []
   },
   "source": [
    "## 2.4. Age\n",
    "\n",
    "Previously, we calculated the age of the respondents in years at the moment of examination."
   ]
  },
  {
   "cell_type": "markdown",
   "metadata": {
    "_uuid": "d48bb97cba3968e7f73c790226278f6fa818871b",
    "papermill": {
     "duration": 0.070033,
     "end_time": "2020-11-24T13:51:25.100384",
     "exception": false,
     "start_time": "2020-11-24T13:51:25.030351",
     "status": "completed"
    },
    "tags": []
   },
   "source": [
    "### Task:\n",
    "\n",
    "Create a *count plot* using [`countplot()`](http://seaborn.pydata.org/generated/seaborn.countplot.html) with the age on the *X* axis and the number of people on the *Y* axis. Your resulting plot should have two columns for each age, corresponding to the number of people for each *cardio* class of that age."
   ]
  },
  {
   "cell_type": "code",
   "execution_count": 28,
   "metadata": {
    "_uuid": "fd07f3aab9891fd86228d5880a7a38cc88b282ba",
    "execution": {
     "iopub.execute_input": "2020-11-24T13:51:25.249904Z",
     "iopub.status.busy": "2020-11-24T13:51:25.248825Z",
     "iopub.status.idle": "2020-11-24T13:51:25.932158Z",
     "shell.execute_reply": "2020-11-24T13:51:25.931452Z"
    },
    "papermill": {
     "duration": 0.759459,
     "end_time": "2020-11-24T13:51:25.932284",
     "exception": false,
     "start_time": "2020-11-24T13:51:25.172825",
     "status": "completed"
    },
    "tags": []
   },
   "outputs": [
    {
     "data": {
      "image/png": "[encoded data removed]",
      "text/plain": [
       "<Figure size 2880x576 with 1 Axes>"
      ]
     },
     "metadata": {
      "needs_background": "light"
     },
     "output_type": "display_data"
    }
   ],
   "source": [
    "plt.figure(figsize=(40,8))\n",
    "sns.countplot(x='age_years', hue='cardio', data=extended_df);"
   ]
  },
  {
   "cell_type": "markdown",
   "metadata": {
    "_uuid": "49557c7bd46d729c27aa8190df65cc25e45e7528",
    "papermill": {
     "duration": 0.070804,
     "end_time": "2020-11-24T13:51:26.074232",
     "exception": false,
     "start_time": "2020-11-24T13:51:26.003428",
     "status": "completed"
    },
    "tags": []
   },
   "source": [
    "**Question 2.4. (1 point).** What is the smallest age at which the number of people with CVD outnumber the number of people without CVD?\n",
    "\n",
    "1. 44\n",
    "2. 55\n",
    "3. 64\n",
    "4. 70"
   ]
  },
  {
   "cell_type": "markdown",
   "metadata": {
    "papermill": {
     "duration": 0.07168,
     "end_time": "2020-11-24T13:51:26.218565",
     "exception": false,
     "start_time": "2020-11-24T13:51:26.146885",
     "status": "completed"
    },
    "tags": []
   },
   "source": [
    "Answer: 2"
   ]
  }
 ],
 "metadata": {
  "kernelspec": {
   "display_name": "Python 3",
   "language": "python",
   "name": "python3"
  },
  "language_info": {
   "codemirror_mode": {
    "name": "ipython",
    "version": 3
   },
   "file_extension": ".py",
   "mimetype": "text/x-python",
   "name": "python",
   "nbconvert_exporter": "python",
   "pygments_lexer": "ipython3",
   "version": "3.7.4"
  },
  "papermill": {
   "duration": 20.371002,
   "end_time": "2020-11-24T13:51:26.397655",
   "environment_variables": {},
   "exception": null,
   "input_path": "__notebook__.ipynb",
   "output_path": "__notebook__.ipynb",
   "parameters": {},
   "start_time": "2020-11-24T13:51:06.026653",
   "version": "2.1.0"
  }
 },
 "nbformat": 4,
 "nbformat_minor": 4
}
